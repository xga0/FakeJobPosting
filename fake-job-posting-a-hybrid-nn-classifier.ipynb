{
 "cells": [
  {
   "cell_type": "markdown",
   "metadata": {},
   "source": [
    "# A Hybrid Nerual Network Classifier with Oversample Minority Class"
   ]
  },
  {
   "cell_type": "code",
   "execution_count": 1,
   "metadata": {
    "_cell_guid": "b1076dfc-b9ad-4769-8c92-a6c4dae69d19",
    "_uuid": "8f2839f25d086af736a60e9eeb907d3b93b6e0e5"
   },
   "outputs": [
    {
     "name": "stdout",
     "output_type": "stream",
     "text": [
      "Collecting contractions\r\n",
      "  Downloading contractions-0.0.24-py2.py3-none-any.whl (3.2 kB)\r\n",
      "Collecting textsearch\r\n",
      "  Downloading textsearch-0.0.17-py2.py3-none-any.whl (7.5 kB)\r\n",
      "Requirement already satisfied: Unidecode in /opt/conda/lib/python3.6/site-packages (from textsearch->contractions) (1.1.1)\r\n",
      "Requirement already satisfied: pyahocorasick in /opt/conda/lib/python3.6/site-packages (from textsearch->contractions) (1.4.0)\r\n",
      "Installing collected packages: textsearch, contractions\r\n",
      "Successfully installed contractions-0.0.24 textsearch-0.0.17\r\n"
     ]
    },
    {
     "name": "stderr",
     "output_type": "stream",
     "text": [
      "Using TensorFlow backend.\n"
     ]
    }
   ],
   "source": [
    "#LOAD ALL PACKAGES\n",
    "!pip install contractions\n",
    "\n",
    "import pandas as pd\n",
    "from sklearn.model_selection import train_test_split\n",
    "import contractions\n",
    "import re\n",
    "import en_core_web_sm\n",
    "from keras.preprocessing.text import Tokenizer\n",
    "from keras.preprocessing.sequence import pad_sequences\n",
    "from imblearn.over_sampling import SMOTE\n",
    "from keras.layers import Input,Embedding, LSTM, Dense, Concatenate\n",
    "from keras.models import Model\n",
    "from keras.utils import plot_model"
   ]
  },
  {
   "cell_type": "code",
   "execution_count": 2,
   "metadata": {
    "_cell_guid": "79c7e3d0-c299-4dcb-8224-4455121ee9b0",
    "_uuid": "d629ff2d2480ee46fbb7e2d37f6b5fab8052498a"
   },
   "outputs": [
    {
     "data": {
      "text/plain": [
       "['job_id',\n",
       " 'title',\n",
       " 'location',\n",
       " 'department',\n",
       " 'salary_range',\n",
       " 'company_profile',\n",
       " 'description',\n",
       " 'requirements',\n",
       " 'benefits',\n",
       " 'telecommuting',\n",
       " 'has_company_logo',\n",
       " 'has_questions',\n",
       " 'employment_type',\n",
       " 'required_experience',\n",
       " 'required_education',\n",
       " 'industry',\n",
       " 'function',\n",
       " 'fraudulent']"
      ]
     },
     "execution_count": 2,
     "metadata": {},
     "output_type": "execute_result"
    }
   ],
   "source": [
    "#LOAD DATA\n",
    "j = pd.read_csv('../input/real-or-fake-fake-jobposting-prediction/fake_job_postings.csv')\n",
    "\n",
    "#DROP NAN ROWS\n",
    "j = j.dropna()\n",
    "\n",
    "list(j.columns)"
   ]
  },
  {
   "cell_type": "code",
   "execution_count": 3,
   "metadata": {},
   "outputs": [
    {
     "data": {
      "text/plain": [
       "['job_id',\n",
       " 'title',\n",
       " 'location',\n",
       " 'department',\n",
       " 'salary_range',\n",
       " 'company_profile',\n",
       " 'description',\n",
       " 'requirements',\n",
       " 'benefits',\n",
       " 'telecommuting',\n",
       " 'industry',\n",
       " 'function',\n",
       " 'fraudulent',\n",
       " 'has_company_logo_0',\n",
       " 'has_company_logo_1',\n",
       " 'has_questions_0',\n",
       " 'has_questions_1',\n",
       " 'employment_type_Contract',\n",
       " 'employment_type_Full-time',\n",
       " 'employment_type_Other',\n",
       " 'employment_type_Part-time',\n",
       " 'employment_type_Temporary',\n",
       " 'required_experience_Associate',\n",
       " 'required_experience_Director',\n",
       " 'required_experience_Entry level',\n",
       " 'required_experience_Executive',\n",
       " 'required_experience_Internship',\n",
       " 'required_experience_Mid-Senior level',\n",
       " 'required_experience_Not Applicable',\n",
       " 'required_education_Associate Degree',\n",
       " \"required_education_Bachelor's Degree\",\n",
       " 'required_education_Certification',\n",
       " 'required_education_High School or equivalent',\n",
       " \"required_education_Master's Degree\",\n",
       " 'required_education_Professional',\n",
       " 'required_education_Some College Coursework Completed',\n",
       " 'required_education_Unspecified',\n",
       " 'required_education_Vocational',\n",
       " 'required_education_Vocational - HS Diploma']"
      ]
     },
     "execution_count": 3,
     "metadata": {},
     "output_type": "execute_result"
    }
   ],
   "source": [
    "#CHECK CLASSES DISTRIBUTION\n",
    "j['fraudulent'].value_counts()\n",
    "\n",
    "#DUMMY CODING CATEGORICAL VARIABLES\n",
    "j = pd.get_dummies(j, columns=['has_company_logo',\n",
    "                               'has_questions',\n",
    "                               'employment_type',\n",
    "                               'required_experience',\n",
    "                               'required_education',\n",
    "                               ])\n",
    "\n",
    "list(j.columns)"
   ]
  },
  {
   "cell_type": "code",
   "execution_count": 4,
   "metadata": {},
   "outputs": [
    {
     "name": "stderr",
     "output_type": "stream",
     "text": [
      "/opt/conda/lib/python3.6/site-packages/ipykernel_launcher.py:49: SettingWithCopyWarning: \n",
      "A value is trying to be set on a copy of a slice from a DataFrame.\n",
      "Try using .loc[row_indexer,col_indexer] = value instead\n",
      "\n",
      "See the caveats in the documentation: http://pandas.pydata.org/pandas-docs/stable/user_guide/indexing.html#returning-a-view-versus-a-copy\n"
     ]
    }
   ],
   "source": [
    "#PREPARE X AND Y\n",
    "X = j[['title',\n",
    " 'location',\n",
    " 'department',\n",
    " 'company_profile',\n",
    " 'description',\n",
    " 'requirements',\n",
    " 'benefits',\n",
    " 'industry',\n",
    " 'function',\n",
    " 'has_company_logo_0',\n",
    " 'has_company_logo_1',\n",
    " 'has_questions_0',\n",
    " 'has_questions_1',\n",
    " 'employment_type_Contract',\n",
    " 'employment_type_Full-time',\n",
    " 'employment_type_Other',\n",
    " 'employment_type_Part-time',\n",
    " 'employment_type_Temporary',\n",
    " 'required_experience_Associate',\n",
    " 'required_experience_Director',\n",
    " 'required_experience_Entry level',\n",
    " 'required_experience_Executive',\n",
    " 'required_experience_Internship',\n",
    " 'required_experience_Mid-Senior level',\n",
    " 'required_experience_Not Applicable',\n",
    " 'required_education_Associate Degree',\n",
    " \"required_education_Bachelor's Degree\",\n",
    " 'required_education_Certification',\n",
    " 'required_education_High School or equivalent',\n",
    " \"required_education_Master's Degree\",\n",
    " 'required_education_Professional',\n",
    " 'required_education_Some College Coursework Completed',\n",
    " 'required_education_Unspecified',\n",
    " 'required_education_Vocational',\n",
    " 'required_education_Vocational - HS Diploma']]\n",
    "\n",
    "y = j['fraudulent'].to_list()\n",
    "\n",
    "#CONCAT ALL TEXT COLUMNS\n",
    "X['text'] = X[['title',\n",
    " 'location',\n",
    " 'department',\n",
    " 'company_profile',\n",
    " 'description',\n",
    " 'requirements',\n",
    " 'benefits',\n",
    " 'industry',\n",
    " 'function',]].agg('-'.join, axis=1) \n",
    "\n",
    "X = X[['text',\n",
    "       'has_company_logo_0',\n",
    " 'has_company_logo_1',\n",
    " 'has_questions_0',\n",
    " 'has_questions_1',\n",
    " 'employment_type_Contract',\n",
    " 'employment_type_Full-time',\n",
    " 'employment_type_Other',\n",
    " 'employment_type_Part-time',\n",
    " 'employment_type_Temporary',\n",
    " 'required_experience_Associate',\n",
    " 'required_experience_Director',\n",
    " 'required_experience_Entry level',\n",
    " 'required_experience_Executive',\n",
    " 'required_experience_Internship',\n",
    " 'required_experience_Mid-Senior level',\n",
    " 'required_experience_Not Applicable',\n",
    " 'required_education_Associate Degree',\n",
    " \"required_education_Bachelor's Degree\",\n",
    " 'required_education_Certification',\n",
    " 'required_education_High School or equivalent',\n",
    " \"required_education_Master's Degree\",\n",
    " 'required_education_Professional',\n",
    " 'required_education_Some College Coursework Completed',\n",
    " 'required_education_Unspecified',\n",
    " 'required_education_Vocational',\n",
    " 'required_education_Vocational - HS Diploma']]\n",
    "\n",
    "#PREPARE INPUT\n",
    "X['text'] = X['text'].apply(lambda x: contractions.fix(x))\n",
    "X['text'] = X['text'].apply(lambda x: re.sub('[^a-zA-z0-9\\s]','',x))\n",
    "\n",
    "def lowerCase(input_str):\n",
    "    input_str = input_str.lower()\n",
    "    return input_str\n",
    "\n",
    "X['text'] = X['text'].apply(lambda x: lowerCase(x))\n",
    "\n",
    "def lemma(input_str):\n",
    "    sp = en_core_web_sm.load()\n",
    "    s = sp(input_str)\n",
    "    \n",
    "    input_list = []\n",
    "    for word in s:\n",
    "        w = word.lemma_\n",
    "        input_list.append(w)\n",
    "        \n",
    "    output = ' '.join(input_list)\n",
    "    return output\n",
    "\n",
    "X['text'] = X['text'].apply(lambda x: lemma(x))\n",
    "X['text'] = X['text'].str.replace('\\xa0', '')"
   ]
  },
  {
   "cell_type": "code",
   "execution_count": 5,
   "metadata": {},
   "outputs": [],
   "source": [
    "#VECTORIZE\n",
    "def wordCount(df_column):\n",
    "    #df_column in df['column_name']\n",
    "    list_text = df_column.to_list()\n",
    "    one_string = ' '.join(list_text)\n",
    "    string_list = list(one_string.split(' '))\n",
    "    list_unique = list(set(string_list))\n",
    "    wordcount = len(list_unique)\n",
    "    \n",
    "    return wordcount\n",
    "\n",
    "wordCount(X['text'])\n",
    "\n",
    "tokenizer = Tokenizer(num_words = 25000, split = ' ')\n",
    "tokenizer.fit_on_texts(X['text'].values)\n",
    "\n",
    "X_nlp = tokenizer.texts_to_sequences(X['text'].values)\n",
    "X_nlp = pad_sequences(X_nlp)\n",
    "\n",
    "X_meta = X[['has_company_logo_0',\n",
    " 'has_company_logo_1',\n",
    " 'has_questions_0',\n",
    " 'has_questions_1',\n",
    " 'employment_type_Contract',\n",
    " 'employment_type_Full-time',\n",
    " 'employment_type_Other',\n",
    " 'employment_type_Part-time',\n",
    " 'employment_type_Temporary',\n",
    " 'required_experience_Associate',\n",
    " 'required_experience_Director',\n",
    " 'required_experience_Entry level',\n",
    " 'required_experience_Executive',\n",
    " 'required_experience_Internship',\n",
    " 'required_experience_Mid-Senior level',\n",
    " 'required_experience_Not Applicable',\n",
    " 'required_education_Associate Degree',\n",
    " \"required_education_Bachelor's Degree\",\n",
    " 'required_education_Certification',\n",
    " 'required_education_High School or equivalent',\n",
    " \"required_education_Master's Degree\",\n",
    " 'required_education_Professional',\n",
    " 'required_education_Some College Coursework Completed',\n",
    " 'required_education_Unspecified',\n",
    " 'required_education_Vocational',\n",
    " 'required_education_Vocational - HS Diploma']]\n",
    "\n",
    "X_nlp_train, X_nlp_test, y_train, y_test = train_test_split(\n",
    "        X_nlp, y, test_size=0.2, random_state=42)\n",
    "\n",
    "X_meta_train, X_meta_test, y_train, y_test = train_test_split(\n",
    "        X_meta, y, test_size=0.2, random_state=42)\n",
    "\n",
    "sm = SMOTE(random_state=42)\n",
    "\n",
    "X_nlp_train, y_nlp_train = sm.fit_sample(X_nlp_train, y_train)\n",
    "X_meta_train, y_train = sm.fit_sample(X_meta_train, y_train)\n",
    "\n",
    "X_meta_train = X_meta_train[['has_company_logo_0',\n",
    " 'has_company_logo_1',\n",
    " 'has_questions_0',\n",
    " 'has_questions_1',\n",
    " 'employment_type_Contract',\n",
    " 'employment_type_Full-time',\n",
    " 'employment_type_Other',\n",
    " 'employment_type_Part-time',\n",
    " 'employment_type_Temporary',\n",
    " 'required_experience_Associate',\n",
    " 'required_experience_Director',\n",
    " 'required_experience_Entry level',\n",
    " 'required_experience_Executive',\n",
    " 'required_experience_Internship',\n",
    " 'required_experience_Mid-Senior level',\n",
    " 'required_experience_Not Applicable',\n",
    " 'required_education_Associate Degree',\n",
    " \"required_education_Bachelor's Degree\",\n",
    " 'required_education_Certification',\n",
    " 'required_education_High School or equivalent',\n",
    " \"required_education_Master's Degree\",\n",
    " 'required_education_Professional',\n",
    " 'required_education_Some College Coursework Completed',\n",
    " 'required_education_Unspecified',\n",
    " 'required_education_Vocational',\n",
    " 'required_education_Vocational - HS Diploma']].values\n",
    "                             \n",
    "X_meta_test = X_meta_test[['has_company_logo_0',\n",
    " 'has_company_logo_1',\n",
    " 'has_questions_0',\n",
    " 'has_questions_1',\n",
    " 'employment_type_Contract',\n",
    " 'employment_type_Full-time',\n",
    " 'employment_type_Other',\n",
    " 'employment_type_Part-time',\n",
    " 'employment_type_Temporary',\n",
    " 'required_experience_Associate',\n",
    " 'required_experience_Director',\n",
    " 'required_experience_Entry level',\n",
    " 'required_experience_Executive',\n",
    " 'required_experience_Internship',\n",
    " 'required_experience_Mid-Senior level',\n",
    " 'required_experience_Not Applicable',\n",
    " 'required_education_Associate Degree',\n",
    " \"required_education_Bachelor's Degree\",\n",
    " 'required_education_Certification',\n",
    " 'required_education_High School or equivalent',\n",
    " \"required_education_Master's Degree\",\n",
    " 'required_education_Professional',\n",
    " 'required_education_Some College Coursework Completed',\n",
    " 'required_education_Unspecified',\n",
    " 'required_education_Vocational',\n",
    " 'required_education_Vocational - HS Diploma']].values"
   ]
  },
  {
   "cell_type": "code",
   "execution_count": 6,
   "metadata": {},
   "outputs": [],
   "source": [
    "input_1 = Input(shape=(X_nlp.shape[1],))\n",
    "input_2 = Input(shape=(26,))\n",
    "\n",
    "embedding_layer = Embedding(25000, 128)(input_1)\n",
    "LSTM_Layer_1 = LSTM(128)(embedding_layer)\n",
    "\n",
    "dense_layer_1 = Dense(32, activation='relu')(input_2)\n",
    "#dropout_layer_1 = Dropout(0.2)(dense_layer_1)\n",
    "dense_layer_2 = Dense(32, activation='relu')(dense_layer_1)\n",
    "#dropout_layer_2 = Dropout(0.2)(dense_layer_2)\n",
    "\n",
    "concat_layer = Concatenate()([LSTM_Layer_1, dense_layer_2])\n",
    "dense_layer_3 = Dense(16, activation='relu')(concat_layer)\n",
    "\n",
    "output = Dense(1, activation='sigmoid')(dense_layer_3)\n",
    "\n",
    "model = Model(inputs=[input_1, input_2], outputs=output)\n",
    "\n",
    "model.compile(loss='binary_crossentropy',\n",
    "              optimizer='adam',metrics=['accuracy'])"
   ]
  },
  {
   "cell_type": "markdown",
   "metadata": {},
   "source": [
    "![Model](https://raw.githubusercontent.com/xga0/fakeJobPosting/master/model_plot3.png)"
   ]
  },
  {
   "cell_type": "code",
   "execution_count": 7,
   "metadata": {},
   "outputs": [
    {
     "name": "stderr",
     "output_type": "stream",
     "text": [
      "/opt/conda/lib/python3.6/site-packages/tensorflow_core/python/framework/indexed_slices.py:433: UserWarning: Converting sparse IndexedSlices to a dense Tensor of unknown shape. This may consume a large amount of memory.\n",
      "  \"Converting sparse IndexedSlices to a dense Tensor of unknown shape. \"\n"
     ]
    },
    {
     "name": "stdout",
     "output_type": "stream",
     "text": [
      "Train on 896 samples, validate on 224 samples\n",
      "Epoch 1/10\n",
      "896/896 [==============================] - 43s 48ms/step - loss: 0.6808 - accuracy: 0.5703 - val_loss: 0.6068 - val_accuracy: 0.3839\n",
      "Epoch 2/10\n",
      "896/896 [==============================] - 42s 47ms/step - loss: 0.5665 - accuracy: 0.6908 - val_loss: 0.6278 - val_accuracy: 0.3527\n",
      "Epoch 3/10\n",
      "896/896 [==============================] - 42s 47ms/step - loss: 0.4387 - accuracy: 0.9319 - val_loss: 0.5308 - val_accuracy: 0.7589\n",
      "Epoch 4/10\n",
      "896/896 [==============================] - 42s 47ms/step - loss: 0.2322 - accuracy: 0.9431 - val_loss: 0.3568 - val_accuracy: 0.9330\n",
      "Epoch 5/10\n",
      "896/896 [==============================] - 42s 47ms/step - loss: 0.1228 - accuracy: 0.9922 - val_loss: 0.2294 - val_accuracy: 0.9777\n",
      "Epoch 6/10\n",
      "896/896 [==============================] - 42s 46ms/step - loss: 0.0443 - accuracy: 0.9944 - val_loss: 0.0990 - val_accuracy: 0.9866\n",
      "Epoch 7/10\n",
      "896/896 [==============================] - 40s 45ms/step - loss: 0.0261 - accuracy: 0.9967 - val_loss: 0.0311 - val_accuracy: 0.9955\n",
      "Epoch 8/10\n",
      "896/896 [==============================] - 41s 46ms/step - loss: 0.0073 - accuracy: 1.0000 - val_loss: 0.0123 - val_accuracy: 0.9955\n",
      "Epoch 9/10\n",
      "896/896 [==============================] - 42s 47ms/step - loss: 0.0015 - accuracy: 1.0000 - val_loss: 0.0331 - val_accuracy: 0.9866\n",
      "Epoch 10/10\n",
      "896/896 [==============================] - 41s 46ms/step - loss: 9.2701e-04 - accuracy: 1.0000 - val_loss: 0.0537 - val_accuracy: 0.9866\n",
      "155/155 [==============================] - 2s 13ms/step\n",
      "Test Score: 0.08345180672983969\n"
     ]
    }
   ],
   "source": [
    "history = model.fit(x=[X_nlp_train, X_meta_train], y=y_train, \n",
    "                    epochs = 10, batch_size = 128, verbose = 1,\n",
    "                    validation_split=0.2)\n",
    "\n",
    "score = model.evaluate(x=[X_nlp_test, X_meta_test], y=y_test, verbose=1)\n",
    "\n",
    "print(\"Test Score:\", score[0])"
   ]
  },
  {
   "cell_type": "code",
   "execution_count": 8,
   "metadata": {},
   "outputs": [
    {
     "name": "stdout",
     "output_type": "stream",
     "text": [
      "Test Accuracy: 0.9741935729980469\n"
     ]
    }
   ],
   "source": [
    "print(\"Test Accuracy:\", score[1])"
   ]
  },
  {
   "cell_type": "markdown",
   "metadata": {},
   "source": [
    "![](http://)"
   ]
  }
 ],
 "metadata": {
  "kernelspec": {
   "display_name": "Python 3",
   "language": "python",
   "name": "python3"
  },
  "language_info": {
   "codemirror_mode": {
    "name": "ipython",
    "version": 3
   },
   "file_extension": ".py",
   "mimetype": "text/x-python",
   "name": "python",
   "nbconvert_exporter": "python",
   "pygments_lexer": "ipython3",
   "version": "3.6.6"
  }
 },
 "nbformat": 4,
 "nbformat_minor": 4
}
